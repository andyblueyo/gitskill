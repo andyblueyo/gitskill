{
 "cells": [
  {
   "cell_type": "code",
   "execution_count": 1,
   "metadata": {
    "collapsed": true
   },
   "outputs": [],
   "source": [
    "%matplotlib inline\n",
    "\n",
    "import os\n",
    "\n",
    "import numpy as np\n",
    "import pandas as pd\n",
    "\n",
    "import matplotlib.pyplot as plt\n",
    "from sklearn.pipeline import make_pipeline\n",
    "from sklearn.preprocessing import MinMaxScaler\n",
    "from sklearn.model_selection import GridSearchCV\n",
    "from sklearn.model_selection import KFold\n",
    "from sklearn.model_selection import cross_val_score\n",
    "from sklearn.neighbors import KNeighborsClassifier\n",
    "from sklearn.model_selection import train_test_split\n",
    "from sklearn.metrics import accuracy_score\n",
    "from sklearn.linear_model import SGDClassifier\n",
    "from sklearn.ensemble import RandomForestClassifier\n",
    "from sklearn import linear_model\n",
    "from sklearn.pipeline import make_pipeline\n",
    "from sklearn.preprocessing import MinMaxScaler\n",
    "from sklearn.ensemble import GradientBoostingClassifier"
   ]
  },
  {
   "cell_type": "code",
   "execution_count": 2,
   "metadata": {},
   "outputs": [
    {
     "name": "stdout",
     "output_type": "stream",
     "text": [
      "data\n"
     ]
    }
   ],
   "source": [
    "DATA_DIR = os.path.join('data')\n",
    "\n",
    "print (DATA_DIR)"
   ]
  },
  {
   "cell_type": "code",
   "execution_count": 3,
   "metadata": {},
   "outputs": [
    {
     "data": {
      "text/plain": [
       "(9590, 323)"
      ]
     },
     "execution_count": 3,
     "metadata": {},
     "output_type": "execute_result"
    }
   ],
   "source": [
    "all_data = pd.read_csv(os.path.join(DATA_DIR,'merged_data.csv'), index_col='id')\n",
    "all_data.shape"
   ]
  },
  {
   "cell_type": "code",
   "execution_count": 4,
   "metadata": {},
   "outputs": [
    {
     "data": {
      "text/plain": [
       "(8394, 319)"
      ]
     },
     "execution_count": 4,
     "metadata": {},
     "output_type": "execute_result"
    }
   ],
   "source": [
    "all_data = all_data.drop('orgs', axis=1)\n",
    "all_data = all_data.drop('ownerName', axis=1)\n",
    "all_data = all_data.drop('userType', axis=1)\n",
    "all_data = all_data.drop('ownerType', axis=1)\n",
    "all_data = all_data[all_data['Java'].notnull()]\n",
    "all_data = all_data[all_data['publicRepos'].notnull()]\n",
    "all_data.shape\n",
    "\n"
   ]
  },
  {
   "cell_type": "code",
   "execution_count": 5,
   "metadata": {
    "collapsed": true
   },
   "outputs": [],
   "source": [
    "#train_outcome = all_data[['stars']]\n",
    "#train_features = all_data.drop('stars', axis=1)\n",
    "train_features, test_features, train_outcome, test_outcome = train_test_split(all_data.drop('stars', axis=1),all_data[['stars']],  test_size=.3, random_state=11)\n"
   ]
  },
  {
   "cell_type": "code",
   "execution_count": null,
   "metadata": {},
   "outputs": [
    {
     "name": "stderr",
     "output_type": "stream",
     "text": [
      "C:\\Users\\pbdon\\Anaconda3\\lib\\site-packages\\sklearn\\model_selection\\_split.py:605: Warning: The least populated class in y has only 1 members, which is too few. The minimum number of members in any class cannot be less than n_splits=3.\n",
      "  % (min_groups, self.n_splits)), Warning)\n"
     ]
    }
   ],
   "source": [
    "scaler = MinMaxScaler()\n",
    "knn_clf = GradientBoostingClassifier()\n",
    "#knn_clf = KNeighborsClassifier()\n",
    "#knn_clf = RandomForestClassifier()\n",
    "pipe = make_pipeline(scaler, knn_clf)\n",
    "\n",
    "\n",
    "param_grid = {}\n",
    "grid = GridSearchCV(pipe, param_grid, n_jobs=4, scoring = \"mean_squared_error\")\n",
    "grid.fit(train_features, np.ravel(train_outcome))\n",
    "\n",
    "grid.score(test_features, test_outcome)\n",
    "#grid.predict(test_features)\n",
    "#knn_fit = knn_clf.fit(train_features, train_outcome)\n",
    "#knn_preds = knn_fit.predict(test_features)\n",
    "#accuracy_score(knn_preds, test_outcome)"
   ]
  },
  {
   "cell_type": "code",
   "execution_count": 30,
   "metadata": {
    "collapsed": true
   },
   "outputs": [],
   "source": [
    "temp = grid.predict(test_features)"
   ]
  },
  {
   "cell_type": "code",
   "execution_count": 35,
   "metadata": {},
   "outputs": [
    {
     "name": "stdout",
     "output_type": "stream",
     "text": [
      "44963.0\n",
      "stars    47231.0\n",
      "dtype: float64\n"
     ]
    }
   ],
   "source": [
    "print(temp.max())\n",
    "print(test_outcome.max())"
   ]
  },
  {
   "cell_type": "code",
   "execution_count": 73,
   "metadata": {
    "collapsed": true
   },
   "outputs": [],
   "source": [
    "lm = linear_model.LinearRegression()\n",
    "model = lm.fit(train_features,train_outcome)"
   ]
  },
  {
   "cell_type": "code",
   "execution_count": 81,
   "metadata": {},
   "outputs": [
    {
     "name": "stdout",
     "output_type": "stream",
     "text": [
      "[[  298.50313372]\n",
      " [ -462.83669663]\n",
      " [ 3816.90424839]\n",
      " ..., \n",
      " [   62.77369544]\n",
      " [  654.21477041]\n",
      " [ -328.37425822]]\n"
     ]
    }
   ],
   "source": [
    "predictions = lm.predict(test_features)\n",
    "print(predictions)"
   ]
  },
  {
   "cell_type": "code",
   "execution_count": 82,
   "metadata": {},
   "outputs": [
    {
     "data": {
      "text/plain": [
       "-2260047.1522457465"
      ]
     },
     "execution_count": 82,
     "metadata": {},
     "output_type": "execute_result"
    }
   ],
   "source": [
    "lm.score(test_features,test_outcome)"
   ]
  },
  {
   "cell_type": "code",
   "execution_count": null,
   "metadata": {
    "collapsed": true
   },
   "outputs": [],
   "source": []
  }
 ],
 "metadata": {
  "kernelspec": {
   "display_name": "Python 3",
   "language": "python",
   "name": "python3"
  },
  "language_info": {
   "codemirror_mode": {
    "name": "ipython",
    "version": 3
   },
   "file_extension": ".py",
   "mimetype": "text/x-python",
   "name": "python",
   "nbconvert_exporter": "python",
   "pygments_lexer": "ipython3",
   "version": "3.6.3"
  }
 },
 "nbformat": 4,
 "nbformat_minor": 2
}
