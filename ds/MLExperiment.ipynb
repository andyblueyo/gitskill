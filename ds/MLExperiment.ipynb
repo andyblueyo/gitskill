{
 "cells": [
  {
   "cell_type": "code",
   "execution_count": 1,
   "metadata": {
    "collapsed": true
   },
   "outputs": [],
   "source": [
    "%matplotlib inline\n",
    "\n",
    "import os\n",
    "\n",
    "import numpy as np\n",
    "import pandas as pd\n",
    "\n",
    "import matplotlib.pyplot as plt\n",
    "from sklearn.pipeline import make_pipeline\n",
    "from sklearn.preprocessing import MinMaxScaler\n",
    "from sklearn.model_selection import GridSearchCV\n",
    "from sklearn.model_selection import KFold\n",
    "from sklearn.model_selection import cross_val_score\n",
    "from sklearn.neighbors import KNeighborsClassifier\n",
    "from sklearn.model_selection import train_test_split\n",
    "from sklearn.metrics import mean_squared_error\n",
    "from sklearn.linear_model import SGDClassifier\n",
    "from sklearn.ensemble import RandomForestClassifier\n",
    "from sklearn.linear_model import SGDRegressor"
   ]
  },
  {
   "cell_type": "code",
   "execution_count": 2,
   "metadata": {},
   "outputs": [
    {
     "name": "stdout",
     "output_type": "stream",
     "text": [
      "data\n"
     ]
    }
   ],
   "source": [
    "DATA_DIR = os.path.join('data')\n",
    "\n",
    "print (DATA_DIR)"
   ]
  },
  {
   "cell_type": "code",
   "execution_count": 3,
   "metadata": {},
   "outputs": [
    {
     "data": {
      "text/plain": [
       "(9590, 323)"
      ]
     },
     "execution_count": 3,
     "metadata": {},
     "output_type": "execute_result"
    }
   ],
   "source": [
    "all_data = pd.read_csv(os.path.join(DATA_DIR,'merged_data.csv'), index_col='id')\n",
    "all_data.shape"
   ]
  },
  {
   "cell_type": "code",
   "execution_count": 4,
   "metadata": {},
   "outputs": [
    {
     "data": {
      "text/plain": [
       "(8394, 319)"
      ]
     },
     "execution_count": 4,
     "metadata": {},
     "output_type": "execute_result"
    }
   ],
   "source": [
    "all_data = all_data.drop('orgs', axis=1)\n",
    "all_data = all_data.drop('ownerName', axis=1)\n",
    "all_data = all_data.drop('userType', axis=1)\n",
    "all_data = all_data.drop('ownerType', axis=1)\n",
    "all_data = all_data[all_data['Java'].notnull()]\n",
    "all_data = all_data[all_data['publicRepos'].notnull()]\n",
    "all_data.shape\n",
    "\n"
   ]
  },
  {
   "cell_type": "code",
   "execution_count": 5,
   "metadata": {
    "collapsed": true
   },
   "outputs": [],
   "source": [
    "#train_outcome = all_data[['stars']]\n",
    "#train_features = all_data.drop('stars', axis=1)\n",
    "features = all_data.drop('stars', axis=1)\n",
    "outcome = np.ravel(all_data[['stars']])"
   ]
  },
  {
   "cell_type": "code",
   "execution_count": 13,
   "metadata": {},
   "outputs": [
    {
     "name": "stdout",
     "output_type": "stream",
     "text": [
      "{'sgdregressor__epsilon': 0.6, 'sgdregressor__eta0': 0.1, 'sgdregressor__loss': 'epsilon_insensitive', 'sgdregressor__max_iter': 5000, 'sgdregressor__penalty': 'none'}\n",
      "-152299535.848\n"
     ]
    }
   ],
   "source": [
    "scaler = MinMaxScaler()\n",
    "model = SGDRegressor()\n",
    "pipe = make_pipeline(scaler, model)\n",
    "param_grid = { 'sgdregressor__loss':['epsilon_insensitive'],\n",
    "              'sgdregressor__max_iter':[5000],\n",
    "              'sgdregressor__penalty':['none'],\n",
    "              'sgdregressor__epsilon':[0.6],\n",
    "              'sgdregressor__eta0': [0.1]\n",
    "             }\n",
    "grid = GridSearchCV(pipe, param_grid, scoring='neg_mean_squared_error', n_jobs=6, cv=5)\n",
    "grid.fit(features, outcome)\n",
    "print(grid.best_params_)\n",
    "print(grid.best_score_)\n",
    "grid_preds = grid.predict(features)"
   ]
  },
  {
   "cell_type": "code",
   "execution_count": 14,
   "metadata": {
    "scrolled": false
   },
   "outputs": [
    {
     "data": {
      "image/png": "[encoded data removed]",
      "text/plain": [
       "<matplotlib.figure.Figure at 0x2a6c3534e80>"
      ]
     },
     "metadata": {},
     "output_type": "display_data"
    },
    {
     "data": {
      "image/png": "[encoded data removed]",
      "text/plain": [
       "<matplotlib.figure.Figure at 0x2a6c366a0f0>"
      ]
     },
     "metadata": {},
     "output_type": "display_data"
    }
   ],
   "source": [
    "plt.scatter(outcome, grid_preds)\n",
    "plt.title('Predicted Stars vs Actual Stars')\n",
    "plt.xlabel(\"Repo Stars\")\n",
    "plt.ylabel(\"Predicted Stars\")\n",
    "plt.show()\n",
    "\n",
    "plt.scatter(outcome, grid_preds - outcome)\n",
    "plt.title('Prediction Error vs Actual Stars')\n",
    "plt.xlabel(\"Repo Stars\")\n",
    "plt.ylabel(\"Prediction Error\")\n",
    "plt.show()"
   ]
  }
 ],
 "metadata": {
  "kernelspec": {
   "display_name": "Python 3",
   "language": "python",
   "name": "python3"
  },
  "language_info": {
   "codemirror_mode": {
    "name": "ipython",
    "version": 3
   },
   "file_extension": ".py",
   "mimetype": "text/x-python",
   "name": "python",
   "nbconvert_exporter": "python",
   "pygments_lexer": "ipython3",
   "version": "3.6.3"
  }
 },
 "nbformat": 4,
 "nbformat_minor": 2
}
